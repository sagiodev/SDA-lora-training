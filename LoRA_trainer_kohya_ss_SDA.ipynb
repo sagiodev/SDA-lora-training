{
  "nbformat": 4,
  "nbformat_minor": 0,
  "metadata": {
    "colab": {
      "private_outputs": true,
      "provenance": [],
      "gpuType": "T4",
      "machine_shape": "hm",
      "include_colab_link": true
    },
    "kernelspec": {
      "name": "python3",
      "display_name": "Python 3"
    },
    "language_info": {
      "name": "python"
    },
    "accelerator": "GPU"
  },
  "cells": [
    {
      "cell_type": "markdown",
      "metadata": {
        "id": "view-in-github",
        "colab_type": "text"
      },
      "source": [
        "<a href=\"https://colab.research.google.com/github/sagiodev/SDA-lora-training/blob/main/LoRA_trainer_kohya_ss_SDA.ipynb\" target=\"_parent\"><img src=\"https://colab.research.google.com/assets/colab-badge.svg\" alt=\"Open In Colab\"/></a>"
      ]
    },
    {
      "cell_type": "markdown",
      "source": [
        "## Lora Trainer (kohya_ss GUI)\n",
        "### [Guide to use this notebook](https://stable-diffusion-art.com/train-lora/) - Leave comment if you have questions.\n",
        "\n",
        "Latest version of this notebook can be found [here](https://colab.research.google.com/github/sagiodev/SDA-lora-training/blob/main/LoRA_trainer_kohya_ss_SDA.ipynb).\n",
        "\n",
        "This notebook launches [kohya_ss GUI](https://github.com/bmaltais/kohya_ss/tree/ed4e3b0239a40506de9a17e550e6cf2d0b867a4f).\n",
        "\n",
        "\n",
        "## Instruction\n",
        "1. Review the info on the first cell.\n",
        "2. Run first cell to upload images. Some paths will be printed.\n",
        "3. Run the second cell to launch the LoRA trainer. You will need the paths from the first cell.\n",
        "\n",
        "## Log\n",
        "- 11/16/2023: Allow special characters in password\n",
        "- 10/31/2023: Use CUDA 11.7 when compiling bitsandbytes\n"
      ],
      "metadata": {
        "id": "pAVpv903OEoW"
      }
    },
    {
      "cell_type": "code",
      "source": [
        "#@title <font size=\"5\" color=\"orange\">Step 1: Upload images and print folder names </font>\n",
        "#@markdown Begineers: Use a different `Project_folder` each time when you upload the images.\n",
        "from google.colab import drive\n",
        "drive.mount('/content/drive')\n",
        "\n",
        "Project_folder = 'AI_PICS/training/AndyLau' #@param {type:\"string\"}\n",
        "dataset_name = 'AndyLau' #@param {type:\"string\"}\n",
        "Number_of_epoches = 100 #@param {type:\"integer\"}\n",
        "Lora_output_path = 'AI_PICS/Lora' #@param {type:\"string\"}\n",
        "\n",
        "# construct paths\n",
        "projectPath = '/content/drive/MyDrive/' + Project_folder\n",
        "imagePath = projectPath + '/' + str(Number_of_epoches) + '_'+ dataset_name\n",
        "loraPath = '/content/drive/MyDrive/' + Lora_output_path\n",
        "\n",
        "!mkdir -p {loraPath}\n",
        "\n",
        "import os\n",
        "from google.colab import files\n",
        "import shutil\n",
        "\n",
        "if os.path.exists(imagePath):\n",
        "  print(f'Error: Folder {imagePath} already exists. Please use a different project folder or dataset names. Skip uploading.\\n')\n",
        "else:\n",
        "  !mkdir -p {imagePath}\n",
        "  uploaded = files.upload()\n",
        "  for filename in uploaded.keys():\n",
        "      dst_path = imagePath + '/' + filename\n",
        "      shutil.move(filename, dst_path)\n",
        "  print('Images uploaded successfully.\\n')\n",
        "\n",
        "# print image paths\n",
        "print(f\"Image folder to caption: {imagePath}\")\n",
        "print(f\"Lora Image folder: {projectPath}\")\n",
        "print(f\"Lora output folder: {loraPath}\")\n",
        "\n"
      ],
      "metadata": {
        "cellView": "form",
        "id": "NHsC6v8oxnyk"
      },
      "execution_count": null,
      "outputs": []
    },
    {
      "cell_type": "code",
      "source": [
        "#@title <font size=\"5\" color=\"orange\">Step 2: Train LoRA </font>\n",
        "#@markdown Select username and password to prevent unauthorized access.\n",
        "username = 'a' #@param {type:\"string\"}\n",
        "password = 'a' #@param {type:\"string\"}\n",
        "Clear_Log = True #@param {type:\"boolean\"}\n",
        "\n",
        "def clear():\n",
        "    from IPython.display import clear_output; return clear_output()\n",
        "\n",
        "from google.colab import drive\n",
        "drive.mount('/content/drive')\n",
        "\n",
        "\n",
        "!pip install dadaptation==3.1 diffusers[torch]==0.17.1 easygui==0.98.3 einops==0.6.0 fairscale==0.4.13 ftfy==6.1.1 gradio==3.36.1 huggingface-hub==0.14.1\n",
        "!pip install lion-pytorch==0.0.6 lycoris_lora==1.8.0.dev6 open-clip-torch==2.20.0 prodigyopt==1.0 pytorch-lightning==1.9.0 safetensors==0.3.1 timm==0.6.12\n",
        "!pip install tk==0.1.0 transformers==4.30.2 voluptuous==0.13.1 wandb==0.15.0 xformers==0.0.20 omegaconf\n",
        "\n",
        "\n",
        "# Install bitsandbytes\n",
        "!git clone -b 0.41.0 https://github.com/TimDettmers/bitsandbytes\n",
        "%cd /content/bitsandbytes\n",
        "!CUDA_VERSION=117 make cuda11x\n",
        "!python setup.py install\n",
        "\n",
        "%cd /content\n",
        "!git clone https://github.com/bmaltais/kohya_ss.git\n",
        "#!git clone https://github.com/camenduru/kohya_ss.git\n",
        "%cd kohya_ss/\n",
        "!git checkout v21.8.9\n",
        "\n",
        "if Clear_Log:\n",
        "  clear()\n",
        "\n",
        "# add pwd to python path or else blip captioning won't work\n",
        "%env PYTHONPATH=/env/python:/content/kohya_ss\n",
        "!python kohya_gui.py --headless --share --username='{username}' --password='{password}'\n",
        "\n"
      ],
      "metadata": {
        "id": "gJBtadxGOK7b",
        "cellView": "form"
      },
      "execution_count": null,
      "outputs": []
    }
  ]
}